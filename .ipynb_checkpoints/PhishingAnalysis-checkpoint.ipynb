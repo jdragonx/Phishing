{
 "cells": [
  {
   "cell_type": "code",
   "execution_count": 1,
   "id": "plastic-interest",
   "metadata": {},
   "outputs": [],
   "source": [
    "import pandas as pd\n",
    "import swifter\n",
    "import numpy as np\n",
    "import tensorflow as tf\n",
    "import matplotlib.pyplot as plt\n",
    "\n",
    "from tensorflow.keras.callbacks import EarlyStopping\n",
    "from tensorflow.keras.models import Sequential\n",
    "from tensorflow import keras\n",
    "from tensorflow.keras import layers\n",
    "from category_encoders import TargetEncoder\n",
    "from sklearn.preprocessing import MinMaxScaler\n",
    "from tensorflow.keras.preprocessing.text import Tokenizer\n",
    "from tensorflow.keras.preprocessing.sequence import pad_sequences\n",
    "from sklearn.cluster import KMeans\n",
    "from scipy.spatial.distance import cdist"
   ]
  },
  {
   "cell_type": "code",
   "execution_count": 2,
   "id": "saving-showcase",
   "metadata": {},
   "outputs": [],
   "source": [
    "np.random.seed(5)\n",
    "tf.random.set_seed(5)"
   ]
  },
  {
   "cell_type": "code",
   "execution_count": 3,
   "id": "virtual-valuation",
   "metadata": {},
   "outputs": [],
   "source": [
    "df = pd.read_json(\"dataPhishingDetection.json\")"
   ]
  },
  {
   "cell_type": "code",
   "execution_count": null,
   "id": "successful-terrorist",
   "metadata": {},
   "outputs": [],
   "source": [
    "df"
   ]
  },
  {
   "cell_type": "code",
   "execution_count": 4,
   "id": "twenty-found",
   "metadata": {},
   "outputs": [],
   "source": [
    "df_new = pd.DataFrame(df.iloc[:,10:20])"
   ]
  },
  {
   "cell_type": "code",
   "execution_count": 5,
   "id": "permanent-shareware",
   "metadata": {},
   "outputs": [],
   "source": [
    "final_df = list()\n",
    "for column in df_new.columns:\n",
    "    final_df.append(df_new[column].swifter.progress_bar(False).apply(pd.Series))"
   ]
  },
  {
   "cell_type": "code",
   "execution_count": 6,
   "id": "portable-poetry",
   "metadata": {},
   "outputs": [],
   "source": [
    "df_full = final_df[0]\n",
    "for df in final_df[1:]:\n",
    "    df_full = df_full.append(df)"
   ]
  },
  {
   "cell_type": "code",
   "execution_count": 7,
   "id": "hourly-ordinance",
   "metadata": {},
   "outputs": [],
   "source": [
    "df_full = df_full.drop(columns=[0]).dropna()"
   ]
  },
  {
   "cell_type": "code",
   "execution_count": 8,
   "id": "deluxe-sussex",
   "metadata": {},
   "outputs": [],
   "source": [
    "df_full.focus[df_full.focus == 99] = None\n",
    "df_full.click[df_full.click == 99] = None"
   ]
  },
  {
   "cell_type": "code",
   "execution_count": 9,
   "id": "joint-animal",
   "metadata": {},
   "outputs": [],
   "source": [
    "df_full = df_full.reset_index(drop=True)"
   ]
  },
  {
   "cell_type": "code",
   "execution_count": 10,
   "id": "terminal-confusion",
   "metadata": {},
   "outputs": [],
   "source": [
    "df_click = df_full.click.swifter.progress_bar(False).apply(pd.Series)\n",
    "columns = df_click.columns\n",
    "new_list = list()\n",
    "for column in columns:\n",
    "    test_df = df_click[column].swifter.progress_bar(False).apply(pd.Series)\n",
    "    test_df.columns = ['click_place_'+str(column),'click_time_'+str(column)]\n",
    "    new_list.append(test_df)\n",
    "    \n",
    "df_click = pd.concat(new_list,axis=1)"
   ]
  },
  {
   "cell_type": "code",
   "execution_count": 11,
   "id": "ignored-education",
   "metadata": {},
   "outputs": [],
   "source": [
    "df_coor = df_full.coordenadas.swifter.progress_bar(False).apply(pd.Series)\n",
    "\n",
    "columns = df_coor.columns\n",
    "new_list = list()\n",
    "for column in columns:\n",
    "    test_df = df_coor[column].swifter.progress_bar(False).apply(pd.Series)\n",
    "    test_df.columns = ['coor_x_'+str(column),'coor_y_'+str(column),'coor_z_'+str(column)]\n",
    "    new_list.append(test_df)\n",
    "    \n",
    "df_coor = pd.concat(new_list,axis=1)"
   ]
  },
  {
   "cell_type": "code",
   "execution_count": 12,
   "id": "announced-nightlife",
   "metadata": {},
   "outputs": [],
   "source": [
    "df_focus = df_full.focus.swifter.progress_bar(False).apply(pd.Series)\n",
    "columns = df_focus.columns\n",
    "new_list = list()\n",
    "for column in columns:\n",
    "    test_df = df_focus[column].swifter.progress_bar(False).apply(pd.Series)\n",
    "    test_df.columns = ['focus_place_'+str(column),'focus_time_'+str(column)]\n",
    "    new_list.append(test_df)\n",
    "    \n",
    "df_focus = pd.concat(new_list,axis=1)"
   ]
  },
  {
   "cell_type": "code",
   "execution_count": 13,
   "id": "stock-winning",
   "metadata": {},
   "outputs": [],
   "source": [
    "df_resp = pd.DataFrame(df_full.respuesta)\n",
    "df_resp[df_resp == '[1,\"Phishing\"]'] = 1\n",
    "df_resp[df_resp == '[0,\"Phishing\"]'] = 0\n",
    "df_resp[df_resp == '[1,\"Legitimo\"]'] = 0\n",
    "df_resp[df_resp == '[0,\"Legitimo\"]'] = 1\n",
    "\n",
    "df_resp = df_resp.astype(int)"
   ]
  },
  {
   "cell_type": "code",
   "execution_count": 14,
   "id": "functioning-sailing",
   "metadata": {},
   "outputs": [],
   "source": [
    "df_click = df_click.fillna(0)\n",
    "df_coor = df_coor.fillna(0)\n",
    "df_focus = df_focus.fillna(0)"
   ]
  },
  {
   "cell_type": "code",
   "execution_count": 15,
   "id": "ideal-trance",
   "metadata": {},
   "outputs": [],
   "source": [
    "encoder_click = TargetEncoder()\n",
    "encoder_focus = TargetEncoder()"
   ]
  },
  {
   "cell_type": "code",
   "execution_count": 16,
   "id": "flexible-assumption",
   "metadata": {},
   "outputs": [],
   "source": [
    "df_click.iloc[:,::2] = encoder_click.fit_transform(df_click.iloc[:,::2],df_resp)\n",
    "df_focus.iloc[:,::2] = encoder_focus.fit_transform(df_focus.iloc[:,::2],df_resp)"
   ]
  },
  {
   "cell_type": "code",
   "execution_count": 17,
   "id": "inappropriate-shepherd",
   "metadata": {},
   "outputs": [],
   "source": [
    "MAX_NB_WORDS = 50000\n",
    "MAX_SEQUENCE_LENGTH = 250\n",
    "EMBEDDING_DIM = 100\n",
    "\n",
    "tokenizer = Tokenizer(num_words=MAX_NB_WORDS, filters='!\"#$%&()*+,-./:;<=>?@[\\]^_`{|}~', lower=True)\n",
    "tokenizer.fit_on_texts(df_full.comentario.str.lower().values)\n",
    "word_index = tokenizer.word_index"
   ]
  },
  {
   "cell_type": "code",
   "execution_count": 18,
   "id": "charming-symphony",
   "metadata": {},
   "outputs": [],
   "source": [
    "df_com = tokenizer.texts_to_sequences(df_full.comentario.str.lower().values)\n",
    "df_com = pad_sequences(df_com, maxlen=MAX_SEQUENCE_LENGTH)"
   ]
  },
  {
   "cell_type": "markdown",
   "id": "satellite-dispatch",
   "metadata": {},
   "source": [
    "Comentario"
   ]
  },
  {
   "cell_type": "code",
   "execution_count": 19,
   "id": "divine-commissioner",
   "metadata": {},
   "outputs": [],
   "source": [
    "inputs_com = keras.Input(shape=(df_com.shape[1],),name=\"comentario\")\n",
    "emb_com = keras.layers.Embedding(MAX_NB_WORDS, EMBEDDING_DIM, input_shape=(df_com.shape[1],))\n",
    "x_com = emb_com(inputs_com)\n",
    "spDrop_com = keras.layers.SpatialDropout1D(0.2)\n",
    "x_com = spDrop_com(x_com)\n",
    "lstm_com = keras.layers.LSTM(100, dropout=0.2, recurrent_dropout=0.2)\n",
    "x_com = lstm_com(x_com)\n",
    "dense_com = keras.layers.Dense(12, activation='sigmoid', name=\"comentario_out\")\n",
    "x_com = dense_com(x_com)"
   ]
  },
  {
   "cell_type": "markdown",
   "id": "fleet-politics",
   "metadata": {},
   "source": [
    "Click"
   ]
  },
  {
   "cell_type": "code",
   "execution_count": 20,
   "id": "married-venture",
   "metadata": {},
   "outputs": [],
   "source": [
    "inputs_click = keras.Input(df_click.iloc[:,::2].shape[1],name=\"click\")\n",
    "dense_click1 = keras.layers.Dense(100, activation='relu')\n",
    "drop_click = keras.layers.Dropout(0.2)\n",
    "dense_click2 = keras.layers.Dense(6, activation='sigmoid')\n",
    "x_click = dense_click1(inputs_click)\n",
    "x_click = drop_click(x_click)\n",
    "x_click = dense_click2(x_click)"
   ]
  },
  {
   "cell_type": "code",
   "execution_count": 21,
   "id": "heavy-anaheim",
   "metadata": {},
   "outputs": [],
   "source": [
    "inputs_clickt = keras.Input(df_click.iloc[:,1::2].shape[1],name=\"click_tiempo\")\n",
    "dense_clickt1 = keras.layers.Dense(100, activation='relu')\n",
    "drop_clickt = keras.layers.Dropout(0.2)\n",
    "dense_clickt2 = keras.layers.Dense(6, activation='sigmoid')\n",
    "x_clickt = dense_clickt1(inputs_clickt)\n",
    "x_clickt = drop_clickt(x_clickt)\n",
    "x_clickt = dense_clickt2(x_clickt)"
   ]
  },
  {
   "cell_type": "code",
   "execution_count": 22,
   "id": "bulgarian-fiction",
   "metadata": {},
   "outputs": [],
   "source": [
    "concat_click = keras.layers.Concatenate(name=\"click_out\")\n",
    "x_click = concat_click([x_click,x_clickt])"
   ]
  },
  {
   "cell_type": "markdown",
   "id": "confident-weekend",
   "metadata": {},
   "source": [
    "Coordenadas"
   ]
  },
  {
   "cell_type": "code",
   "execution_count": 23,
   "id": "pretty-shield",
   "metadata": {},
   "outputs": [],
   "source": [
    "inputs_coor = keras.Input(df_coor.shape[1],name=\"coordenadas\")\n",
    "dense_coor1 = keras.layers.Dense(100,activation='relu')\n",
    "drop_coor = keras.layers.Dropout(0.2)\n",
    "dense_coor2 = keras.layers.Dense(12,activation='sigmoid',name=\"coordenadas_out\")\n",
    "x_coor = dense_coor1(inputs_coor)\n",
    "x_coor = drop_coor(x_coor)\n",
    "x_coor = dense_coor2(x_coor)"
   ]
  },
  {
   "cell_type": "markdown",
   "id": "north-literacy",
   "metadata": {},
   "source": [
    "Focus"
   ]
  },
  {
   "cell_type": "code",
   "execution_count": 24,
   "id": "removed-literature",
   "metadata": {},
   "outputs": [],
   "source": [
    "inputs_focus = keras.Input(df_focus.iloc[:,::2].shape[1],name=\"focus\")\n",
    "dense_focus1 = keras.layers.Dense(100, activation='relu')\n",
    "drop_focus = keras.layers.Dropout(0.2)\n",
    "dense_focus2 = keras.layers.Dense(6, activation='sigmoid')\n",
    "x_focus= dense_focus1(inputs_focus)\n",
    "x_focus= drop_focus(x_focus)\n",
    "x_focus = dense_focus2(x_focus)"
   ]
  },
  {
   "cell_type": "code",
   "execution_count": 25,
   "id": "catholic-hampshire",
   "metadata": {},
   "outputs": [],
   "source": [
    "inputs_focust = keras.Input(df_focus.iloc[:,1::2].shape[1],name=\"focus_tiempo\")\n",
    "dense_focust1 = keras.layers.Dense(100, activation='relu')\n",
    "drop_focust = keras.layers.Dropout(0.2)\n",
    "dense_focust2 = keras.layers.Dense(6, activation='sigmoid')\n",
    "x_focust = dense_focust1(inputs_focust)\n",
    "x_focust = drop_focust(x_focust)\n",
    "x_focust = dense_focust2(x_focust)"
   ]
  },
  {
   "cell_type": "code",
   "execution_count": 26,
   "id": "double-tragedy",
   "metadata": {},
   "outputs": [],
   "source": [
    "concat_focus = keras.layers.Concatenate(name=\"focus_out\")\n",
    "x_focus= concat_focus([x_focus,x_focust])"
   ]
  },
  {
   "cell_type": "markdown",
   "id": "subjective-attempt",
   "metadata": {},
   "source": [
    "Tiempo"
   ]
  },
  {
   "cell_type": "code",
   "execution_count": 27,
   "id": "entertaining-jacket",
   "metadata": {},
   "outputs": [],
   "source": [
    "inputs_tiempo = keras.Input(1,name=\"tiempo\")\n",
    "dense_tiempo1 = keras.layers.Dense(100, activation='relu')\n",
    "drop_tiempo = keras.layers.Dropout(0.2)\n",
    "dense_tiempo2 = keras.layers.Dense(12, activation='sigmoid',name=\"tiempo_out\")\n",
    "x_tiempo = dense_tiempo1(inputs_tiempo)\n",
    "x_tiempo = drop_tiempo(x_tiempo)\n",
    "x_tiempo = dense_tiempo2(x_tiempo)"
   ]
  },
  {
   "cell_type": "markdown",
   "id": "retired-relay",
   "metadata": {},
   "source": [
    "Modelo"
   ]
  },
  {
   "cell_type": "code",
   "execution_count": 28,
   "id": "written-aberdeen",
   "metadata": {},
   "outputs": [],
   "source": [
    "concat = keras.layers.Concatenate()\n",
    "x = concat([x_com,x_click,x_coor,x_focus,x_tiempo])\n",
    "dense1 = keras.layers.Dense(100, activation='relu')\n",
    "drop = keras.layers.Dropout(0.2)\n",
    "dense2 = keras.layers.Dense(1, activation='sigmoid')\n",
    "x = dense1(x)\n",
    "x = drop(x)\n",
    "x = dense2(x)"
   ]
  },
  {
   "cell_type": "code",
   "execution_count": 29,
   "id": "democratic-north",
   "metadata": {},
   "outputs": [],
   "source": [
    "model = keras.Model(\n",
    "    inputs=[inputs_com,inputs_click,inputs_clickt,inputs_coor,inputs_focus,inputs_focust,inputs_tiempo],\n",
    "    outputs=x)\n",
    "model.compile(loss='mse', optimizer='nadam', metrics=['accuracy'])"
   ]
  },
  {
   "cell_type": "code",
   "execution_count": 30,
   "id": "usual-wrestling",
   "metadata": {},
   "outputs": [],
   "source": [
    "df_resp = df_resp.astype('float64')\n",
    "df_com = df_com.astype('float64')\n",
    "df_click = df_click.astype('float64')\n",
    "df_focus = df_focus.astype('float64')\n",
    "df_coor = df_coor.astype('float64')\n",
    "df_tiempo = df_full.tiempo.astype('float64')"
   ]
  },
  {
   "cell_type": "code",
   "execution_count": 31,
   "id": "interpreted-garage",
   "metadata": {},
   "outputs": [
    {
     "data": {
      "text/plain": [
       "<tensorflow.python.keras.callbacks.History at 0x2705f564888>"
      ]
     },
     "execution_count": 31,
     "metadata": {},
     "output_type": "execute_result"
    }
   ],
   "source": [
    "model.fit(\n",
    "    {\"comentario\":df_com,\n",
    "     \"click\":df_click.iloc[:,::2],\n",
    "     \"click_tiempo\":df_click.iloc[:,1::2],\n",
    "     \"coordenadas\":df_coor,\n",
    "     \"focus\":df_focus.iloc[:,::2],\n",
    "     \"focus_tiempo\":df_focus.iloc[:,1::2],\n",
    "     \"tiempo\":df_tiempo},\n",
    "    df_resp,\n",
    "    epochs=1000,\n",
    "    batch_size=648,\n",
    "    verbose=0,\n",
    "    callbacks=[EarlyStopping(monitor='loss', patience=100, min_delta=0.0001)]\n",
    ")"
   ]
  },
  {
   "cell_type": "code",
   "execution_count": 32,
   "id": "funky-penetration",
   "metadata": {},
   "outputs": [
    {
     "name": "stdout",
     "output_type": "stream",
     "text": [
      "648/648 [==============================] - 2s 3ms/sample - loss: 0.0054 - accuracy: 0.9938\n"
     ]
    },
    {
     "data": {
      "text/plain": [
       "[0.005361435884373754, 0.99382716]"
      ]
     },
     "execution_count": 32,
     "metadata": {},
     "output_type": "execute_result"
    }
   ],
   "source": [
    "model.evaluate(\n",
    "    {\"comentario\":df_com,\n",
    "     \"click\":df_click.iloc[:,::2],\n",
    "     \"click_tiempo\":df_click.iloc[:,1::2],\n",
    "     \"coordenadas\":df_coor,\n",
    "     \"focus\":df_focus.iloc[:,::2],\n",
    "     \"focus_tiempo\":df_focus.iloc[:,1::2],\n",
    "     \"tiempo\":df_tiempo},\n",
    "    df_resp\n",
    ")"
   ]
  },
  {
   "cell_type": "code",
   "execution_count": 33,
   "id": "lovely-stress",
   "metadata": {},
   "outputs": [],
   "source": [
    "features_list  = [layer.output for layer in model.layers if layer.name[-4:] == '_out']\n",
    "feat_extraction_model = keras.Model(inputs=model.input, outputs=features_list)"
   ]
  },
  {
   "cell_type": "code",
   "execution_count": 34,
   "id": "peripheral-participant",
   "metadata": {},
   "outputs": [
    {
     "data": {
      "text/plain": [
       "[<tf.Tensor 'comentario_out/Identity:0' shape=(None, 12) dtype=float32>,\n",
       " <tf.Tensor 'click_out/Identity:0' shape=(None, 12) dtype=float32>,\n",
       " <tf.Tensor 'coordenadas_out/Identity:0' shape=(None, 12) dtype=float32>,\n",
       " <tf.Tensor 'focus_out/Identity:0' shape=(None, 12) dtype=float32>,\n",
       " <tf.Tensor 'tiempo_out/Identity:0' shape=(None, 12) dtype=float32>]"
      ]
     },
     "execution_count": 34,
     "metadata": {},
     "output_type": "execute_result"
    }
   ],
   "source": [
    "feat_extraction_model.outputs"
   ]
  },
  {
   "cell_type": "code",
   "execution_count": 35,
   "id": "surface-consumption",
   "metadata": {},
   "outputs": [],
   "source": [
    "features_class = feat_extraction_model.predict(\n",
    "                        {\"comentario\":df_com,\n",
    "                         \"click\":df_click.iloc[:,::2],\n",
    "                         \"click_tiempo\":df_click.iloc[:,1::2],\n",
    "                         \"coordenadas\":df_coor,\n",
    "                         \"focus\":df_focus.iloc[:,::2],\n",
    "                         \"focus_tiempo\":df_focus.iloc[:,1::2],\n",
    "                         \"tiempo\":df_tiempo}\n",
    "                    )"
   ]
  },
  {
   "cell_type": "code",
   "execution_count": 36,
   "id": "charming-exhibition",
   "metadata": {},
   "outputs": [],
   "source": [
    "km_comentario = features_class[0]\n",
    "km_click = features_class[1]\n",
    "km_coordenadas = features_class[2]\n",
    "km_focus = features_class[3]\n",
    "km_tiempo = features_class[4]"
   ]
  },
  {
   "cell_type": "code",
   "execution_count": 37,
   "id": "forward-momentum",
   "metadata": {},
   "outputs": [
    {
     "data": {
      "image/png": "[encoded data removed]",
      "text/plain": [
       "<Figure size 432x288 with 1 Axes>"
      ]
     },
     "metadata": {
      "needs_background": "light"
     },
     "output_type": "display_data"
    },
    {
     "data": {
      "image/png": "[encoded data removed]",
      "text/plain": [
       "<Figure size 432x288 with 1 Axes>"
      ]
     },
     "metadata": {
      "needs_background": "light"
     },
     "output_type": "display_data"
    },
    {
     "data": {
      "image/png": "[encoded data removed]",
      "text/plain": [
       "<Figure size 432x288 with 1 Axes>"
      ]
     },
     "metadata": {
      "needs_background": "light"
     },
     "output_type": "display_data"
    },
    {
     "data": {
      "image/png": "[encoded data removed]",
      "text/plain": [
       "<Figure size 432x288 with 1 Axes>"
      ]
     },
     "metadata": {
      "needs_background": "light"
     },
     "output_type": "display_data"
    },
    {
     "data": {
      "image/png": "[encoded data removed]",
      "text/plain": [
       "<Figure size 432x288 with 1 Axes>"
      ]
     },
     "metadata": {
      "needs_background": "light"
     },
     "output_type": "display_data"
    }
   ],
   "source": [
    "for x in features_class:\n",
    "    distortions = []\n",
    "    K = range(1,20)\n",
    "    for k in K:\n",
    "        kmeanModel = KMeans(n_clusters=k, random_state=5).fit(x)\n",
    "        kmeanModel.fit(x)\n",
    "        distortions.append(\n",
    "            sum(\n",
    "                np.min(cdist(x, kmeanModel.cluster_centers_, 'euclidean'), axis=1)\n",
    "            ) / x.shape[0]\n",
    "        )\n",
    "\n",
    "    plt.plot(K, distortions, 'bx-')\n",
    "    plt.xlabel('k')\n",
    "    plt.ylabel('Distortion')\n",
    "    plt.title('The Elbow Method showing the optimal k')\n",
    "    plt.show()"
   ]
  },
  {
   "cell_type": "markdown",
   "id": "preliminary-founder",
   "metadata": {},
   "source": [
    "Grupos"
   ]
  },
  {
   "cell_type": "code",
   "execution_count": 76,
   "id": "later-looking",
   "metadata": {},
   "outputs": [],
   "source": [
    "kmeanModel1 = KMeans(n_clusters=7, random_state=5)\n",
    "kmeanModel1.fit(km_comentario)\n",
    "df_full['Grupo comentario'] = kmeanModel1.predict(km_comentario)"
   ]
  },
  {
   "cell_type": "code",
   "execution_count": 39,
   "id": "violent-anchor",
   "metadata": {},
   "outputs": [],
   "source": [
    "kmeanModel2 = KMeans(n_clusters=16, random_state=5)\n",
    "kmeanModel2.fit(km_click)\n",
    "df_full['Grupo click'] = kmeanModel2.predict(km_click)"
   ]
  },
  {
   "cell_type": "code",
   "execution_count": 40,
   "id": "complex-sheet",
   "metadata": {},
   "outputs": [],
   "source": [
    "kmeanModel3 = KMeans(n_clusters=17, random_state=5)\n",
    "kmeanModel3.fit(km_coordenadas)\n",
    "df_full['Grupo coordenadas'] = kmeanModel3.predict(km_coordenadas)"
   ]
  },
  {
   "cell_type": "code",
   "execution_count": 41,
   "id": "therapeutic-orchestra",
   "metadata": {},
   "outputs": [],
   "source": [
    "kmeanModel4 = KMeans(n_clusters=18, random_state=5)\n",
    "kmeanModel4.fit(km_focus)\n",
    "df_full['Grupo focus'] = kmeanModel4.predict(km_focus)"
   ]
  },
  {
   "cell_type": "code",
   "execution_count": 42,
   "id": "confused-myrtle",
   "metadata": {},
   "outputs": [],
   "source": [
    "kmeanModel5 = KMeans(n_clusters=14, random_state=5)\n",
    "kmeanModel5.fit(km_tiempo)\n",
    "df_full['Grupo tiempo'] = kmeanModel5.predict(km_tiempo)"
   ]
  },
  {
   "cell_type": "code",
   "execution_count": 92,
   "id": "frozen-samba",
   "metadata": {},
   "outputs": [
    {
     "data": {
      "text/plain": [
       "0      Correo general orientado a cualquier persona. ...\n",
       "3                                  Google no envía links\n",
       "6      el dominio donde se aloja el archivo, no es el...\n",
       "7      Los dominios no coinciden, el de la página con...\n",
       "10     Las horas de creación son extrañas y podrían s...\n",
       "                             ...                        \n",
       "632    Ya que me lleva a un link para ver la foto y n...\n",
       "639    El enlace redirige a driver--google.com, el cu...\n",
       "640    Por que uno de los motivos de Phishing son que...\n",
       "643    Correo cualquiera, enlace adjunto inválido / p...\n",
       "646    Enlace fraudulento, contenido que urge al usua...\n",
       "Name: comentario, Length: 225, dtype: object"
      ]
     },
     "execution_count": 92,
     "metadata": {},
     "output_type": "execute_result"
    }
   ],
   "source": [
    "df_full.comentario[df_full['Grupo comentario'] == 6]"
   ]
  }
 ],
 "metadata": {
  "kernelspec": {
   "display_name": "Python 3",
   "language": "python",
   "name": "python3"
  },
  "language_info": {
   "codemirror_mode": {
    "name": "ipython",
    "version": 3
   },
   "file_extension": ".py",
   "mimetype": "text/x-python",
   "name": "python",
   "nbconvert_exporter": "python",
   "pygments_lexer": "ipython3",
   "version": "3.7.6"
  }
 },
 "nbformat": 4,
 "nbformat_minor": 5
}
